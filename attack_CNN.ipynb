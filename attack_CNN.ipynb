{
 "cells": [
  {
   "cell_type": "markdown",
   "metadata": {
    "id": "W1L3zJP6pPGD"
   },
   "source": [
    "# Attack CNN Malware Detector "
   ]
  },
  {
   "cell_type": "markdown",
   "metadata": {
    "id": "8dn1-g8BpPDx"
   },
   "source": [
    "## Fast Gradient Sign Method\n",
    "$$adv\\_x = x + \\epsilon*\\text{sign}(\\nabla_xJ(\\theta, x, y))$$\n",
    "\n",
    "where \n",
    "\n",
    "*   adv_x : Adversarial image.\n",
    "*   x : Original input image.\n",
    "*   y : Original input label.\n",
    "*   $\\epsilon$ : Multiplier to ensure the perturbations are small.\n",
    "*   $\\theta$ : Model parameters.\n",
    "*   $J$ : Loss."
   ]
  },
  {
   "cell_type": "markdown",
   "metadata": {},
   "source": [
    "# import"
   ]
  },
  {
   "cell_type": "code",
   "execution_count": 2,
   "metadata": {
    "execution": {
     "iopub.execute_input": "2022-12-14T05:11:33.812657Z",
     "iopub.status.busy": "2022-12-14T05:11:33.812044Z",
     "iopub.status.idle": "2022-12-14T05:11:36.101022Z",
     "shell.execute_reply": "2022-12-14T05:11:36.100339Z"
    },
    "id": "vag2WYR6yTOC"
   },
   "outputs": [],
   "source": [
    "import numpy as np\n",
    "\n",
    "import tensorflow as tf\n",
    "from tensorflow import keras\n",
    "from keras import backend, losses\n",
    "\n",
    "import matplotlib as mpl\n",
    "import matplotlib.pyplot as plt\n",
    "import matplotlib.image as mpimg\n",
    "\n",
    "# run this cell twice if u wanna ignore the warning msg"
   ]
  },
  {
   "cell_type": "code",
   "execution_count": 3,
   "metadata": {},
   "outputs": [],
   "source": [
    "# set some param for plot\n",
    "mpl.rcParams['figure.figsize'] = (3, 3)\n",
    "mpl.rcParams['axes.grid'] = False"
   ]
  },
  {
   "cell_type": "markdown",
   "metadata": {
    "id": "wiTHY8dqxzx7"
   },
   "source": [
    "# load "
   ]
  },
  {
   "cell_type": "markdown",
   "metadata": {},
   "source": [
    "\n",
    "## the model we wanna attack"
   ]
  },
  {
   "cell_type": "code",
   "execution_count": 5,
   "metadata": {
    "execution": {
     "iopub.execute_input": "2022-12-14T05:11:36.105162Z",
     "iopub.status.busy": "2022-12-14T05:11:36.104770Z",
     "iopub.status.idle": "2022-12-14T05:11:40.917265Z",
     "shell.execute_reply": "2022-12-14T05:11:40.916528Z"
    },
    "id": "nqhk2vYx6Ag0"
   },
   "outputs": [],
   "source": [
    "# load the model\n",
    "model = keras.models.load_model('/mnt/bigDisk/applebanana/code/API_IMG/new_CNN_model')\n",
    "\n",
    "# run this cell twice if u wanna ignore the warning msg"
   ]
  },
  {
   "cell_type": "markdown",
   "metadata": {},
   "source": [
    "## testing set\n",
    "* x_test, y_test\n",
    "    - x_test[0:50] : benignware img (y_test[0:50]=0)\n",
    "    - x_test[50:100] : malware img (y_test[0:50]=1)"
   ]
  },
  {
   "cell_type": "code",
   "execution_count": 6,
   "metadata": {},
   "outputs": [],
   "source": [
    "# familyName = ['benign','mirai']\n",
    "# familyLabel = {'benign':0,'mirai':1}\n",
    "\n",
    "# size of each img = 9*9, 3 for R,G,B\n",
    "x_test = np.empty([100,9,9,3], dtype=np.float32)\n",
    "y_test = np.empty([100,2], dtype=np.float32)\n",
    "count=0\n",
    "for i in range(50,100):\n",
    "    y_test[count,:] = [1,0]\n",
    "    fname = \"benign_\" + str(i) + \".npy\" \n",
    "    # we need to /255 for each pixel in the img cuz the dtype is float\n",
    "    x_test[count,:,:,:]=np.load('/mnt/bigDisk/applebanana/code/API_IMG/benign_img_9cate/'+fname)/255\n",
    "    count+=1\n",
    "for i in range(50,100):\n",
    "    y_test[count,:] = [0,1]\n",
    "    fname = \"mirai_\" + str(i) + \".npy\"\n",
    "    # we need to /255 for each pixel in the img cuz the dtype is float\n",
    "    x_test[count,:,:,:]=np.load('/mnt/bigDisk/applebanana/code/API_IMG/malware_img_9cate/'+fname)/255\n",
    "    count+=1"
   ]
  },
  {
   "cell_type": "markdown",
   "metadata": {},
   "source": [
    "# FGSM"
   ]
  },
  {
   "cell_type": "markdown",
   "metadata": {
    "id": "kElVTbF690CF"
   },
   "source": [
    "## try to create the adversarial image\n",
    "\n",
    "### func def."
   ]
  },
  {
   "cell_type": "code",
   "execution_count": 8,
   "metadata": {},
   "outputs": [],
   "source": [
    "def create_adversarial_pattern(input_image, y_true):\n",
    "  '''\n",
    "  param.\n",
    "    input_image: Original Input Img\n",
    "    y_true: Original Input Label\n",
    "  return.\n",
    "    the noise(adversarial pattern) for this img\n",
    "  '''\n",
    "  # transform the img(x[i]) \n",
    "  #   1. shape (9,9,3) -> (1,9,9,3)\n",
    "  #   2. to tf.tensor\n",
    "  tmp =  np.empty([1,9,9,3], dtype=np.float32)\n",
    "  tmp[0,:,:,:] = input_image\n",
    "  input_image = tmp\n",
    "  input_image = tf.convert_to_tensor(input_image)\n",
    "  input_image = tf.cast(input_image, tf.float32)\n",
    "  \n",
    "  # get the signed_grad\n",
    "  with tf.GradientTape() as tape:\n",
    "    tape.watch(input_image)\n",
    "    y_pred = model(input_image)\n",
    "    # print(y_pred,y_true)\n",
    "    loss = losses.categorical_crossentropy(y_true, y_pred[0])\n",
    "    # print(loss)\n",
    "    \n",
    "  # Get the gradients of the loss w.r.t to the input image.\n",
    "  gradient = tape.gradient(loss, input_image)\n",
    "  # print(gradient)\n",
    "  # Get the sign of the gradients to create the perturbation\n",
    "  signed_grad = tf.sign(gradient)\n",
    "  return signed_grad"
   ]
  },
  {
   "cell_type": "markdown",
   "metadata": {
    "id": "RbuftX0eSlDQ"
   },
   "source": [
    "test the func create_adversarial_pattern"
   ]
  },
  {
   "cell_type": "code",
   "execution_count": 10,
   "metadata": {
    "execution": {
     "iopub.execute_input": "2022-12-14T05:11:43.508988Z",
     "iopub.status.busy": "2022-12-14T05:11:43.508331Z",
     "iopub.status.idle": "2022-12-14T05:11:44.271243Z",
     "shell.execute_reply": "2022-12-14T05:11:44.270549Z"
    },
    "id": "rVjnb6M7Smv4"
   },
   "outputs": [
    {
     "data": {
      "image/png": "[encoded data removed]",
      "text/plain": [
       "<Figure size 300x300 with 1 Axes>"
      ]
     },
     "metadata": {},
     "output_type": "display_data"
    }
   ],
   "source": [
    "# Get the input label of the image.\n",
    "perturbations = create_adversarial_pattern(x_test[55], y_test[55])\n",
    "plt.imshow(tf.cast(perturbations[0], tf.uint8))\n",
    "plt.show()"
   ]
  },
  {
   "cell_type": "markdown",
   "metadata": {},
   "source": [
    "try to add noise to an malware img"
   ]
  },
  {
   "cell_type": "code",
   "execution_count": 11,
   "metadata": {
    "execution": {
     "iopub.execute_input": "2022-12-14T05:11:44.289625Z",
     "iopub.status.busy": "2022-12-14T05:11:44.288883Z",
     "iopub.status.idle": "2022-12-14T05:11:46.241490Z",
     "shell.execute_reply": "2022-12-14T05:11:46.240590Z"
    },
    "id": "3DA8g-Zp69J4"
   },
   "outputs": [
    {
     "name": "stdout",
     "output_type": "stream",
     "text": [
      "eps= 0\n",
      "tf.Tensor([[4.6491919e-06 9.9999535e-01]], shape=(1, 2), dtype=float32)\n"
     ]
    },
    {
     "data": {
      "image/png": "[encoded data removed]",
      "text/plain": [
       "<Figure size 300x300 with 1 Axes>"
      ]
     },
     "metadata": {},
     "output_type": "display_data"
    },
    {
     "name": "stdout",
     "output_type": "stream",
     "text": [
      "eps= 0.15\n",
      "tf.Tensor([[0.0060196 0.9939804]], shape=(1, 2), dtype=float32)\n"
     ]
    },
    {
     "data": {
      "image/png": "[encoded data removed]",
      "text/plain": [
       "<Figure size 300x300 with 1 Axes>"
      ]
     },
     "metadata": {},
     "output_type": "display_data"
    },
    {
     "name": "stdout",
     "output_type": "stream",
     "text": [
      "eps= 0.16\n",
      "tf.Tensor([[0.01312317 0.98687685]], shape=(1, 2), dtype=float32)\n"
     ]
    },
    {
     "data": {
      "image/png": "[encoded data removed]",
      "text/plain": [
       "<Figure size 300x300 with 1 Axes>"
      ]
     },
     "metadata": {},
     "output_type": "display_data"
    },
    {
     "name": "stdout",
     "output_type": "stream",
     "text": [
      "eps= 0.17\n",
      "tf.Tensor([[0.02833599 0.9716641 ]], shape=(1, 2), dtype=float32)\n"
     ]
    },
    {
     "data": {
      "image/png": "[encoded data removed]",
      "text/plain": [
       "<Figure size 300x300 with 1 Axes>"
      ]
     },
     "metadata": {},
     "output_type": "display_data"
    },
    {
     "name": "stdout",
     "output_type": "stream",
     "text": [
      "eps= 0.18\n",
      "tf.Tensor([[0.06046394 0.93953604]], shape=(1, 2), dtype=float32)\n"
     ]
    },
    {
     "data": {
      "image/png": "[encoded data removed]",
      "text/plain": [
       "<Figure size 300x300 with 1 Axes>"
      ]
     },
     "metadata": {},
     "output_type": "display_data"
    },
    {
     "name": "stdout",
     "output_type": "stream",
     "text": [
      "eps= 0.2\n",
      "tf.Tensor([[0.23852597 0.761474  ]], shape=(1, 2), dtype=float32)\n"
     ]
    },
    {
     "data": {
      "image/png": "[encoded data removed]",
      "text/plain": [
       "<Figure size 300x300 with 1 Axes>"
      ]
     },
     "metadata": {},
     "output_type": "display_data"
    }
   ],
   "source": [
    "epsilons = [0, 0.15, 0.16, 0.17, 0.18, 0.2]\n",
    "\n",
    "for i, eps in enumerate(epsilons):\n",
    "  print('eps=',eps)\n",
    "  adv_x = x_test[55] + eps * perturbations[0]\n",
    "  adv_x = tf.clip_by_value(adv_x, 0, 1)\n",
    "  # print(adv_x)\n",
    "  tmp =  np.empty([1,9,9,3], dtype=np.float32)\n",
    "  tmp[0,:,:,:] = adv_x\n",
    "  print(model(tmp)) # print the prediction of the model so we can know the performance\n",
    "  plt.figure()\n",
    "  plt.imshow(adv_x)\n",
    "  plt.show()\n"
   ]
  },
  {
   "cell_type": "markdown",
   "metadata": {},
   "source": [
    "# AEs generation (all the malware img)"
   ]
  },
  {
   "cell_type": "code",
   "execution_count": 12,
   "metadata": {},
   "outputs": [],
   "source": [
    "# gen the adversarial pattern of each malware img\n",
    "adversarial_pattern = np.empty([50,9,9,3], dtype=np.float32) # init\n",
    "\n",
    "# get the noise for each img\n",
    "for i in range(0,50):\n",
    "        adversarial_pattern[i] = create_adversarial_pattern(x_test[i+50],y_test[i+50])\n",
    "\n",
    "\n",
    "adversarial_example = dict() # key: eps, val: AE\n",
    "# e.g. adversarial_example[0.1][3] = original_img[3] + 0.1 * noise[3]\n",
    "\n",
    "# generate AE \n",
    "epsilons = [0.01, 0.05, 0.075, 0.1, 0.15, 0.2, 0.25]\n",
    "for eps in epsilons:\n",
    "    adversarial_example[eps] = np.empty([50,9,9,3], dtype=np.float32)\n",
    "    for i in range(0,50):\n",
    "        adv_x = x_test[i+50] + eps * adversarial_pattern[i]\n",
    "        adv_x = tf.clip_by_value(adv_x, 0, 1)\n",
    "        adversarial_example[eps][i] = adv_x"
   ]
  },
  {
   "cell_type": "code",
   "execution_count": 13,
   "metadata": {},
   "outputs": [],
   "source": [
    "# import pickle\n",
    "# with open('adversarial_example.pkl', 'wb') as f:\n",
    "#     pickle.dump(adversarial_example, f)\n"
   ]
  },
  {
   "cell_type": "markdown",
   "metadata": {},
   "source": [
    "# attack CNN model \n",
    "## use AEs with different epsilon as input, explore the result"
   ]
  },
  {
   "cell_type": "code",
   "execution_count": 15,
   "metadata": {},
   "outputs": [
    {
     "name": "stdout",
     "output_type": "stream",
     "text": [
      "1/2 [==============>...............] - ETA: 0s - loss: 0.0146 - accuracy: 1.0000\b\b\b\b\b\b\b\b\b\b\b\b\b\b\b\b\b\b\b\b\b\b\b\b\b\b\b\b\b\b\b\b\b\b\b\b\b\b\b\b\b\b\b\b\b\b\b\b\b\b\b\b\b\b\b\b\b\b\b\b\b\b\b\b\b\b\b\b\b\b\b\b\b\b\b\b\b\b\b\b\r2/2 [==============================] - 0s 3ms/step - loss: 0.0110 - accuracy: 1.0000\n",
      "\r1/2 [==============>...............] - ETA: 0s - loss: 0.1712 - accuracy: 0.9062\b\b\b\b\b\b\b\b\b\b\b\b\b\b\b\b\b\b\b\b\b\b\b\b\b\b\b\b\b\b\b\b\b\b\b\b\b\b\b\b\b\b\b\b\b\b\b\b\b\b\b\b\b\b\b\b\b\b\b\b\b\b\b\b\b\b\b\b\b\b\b\b\b\b\b\b\b\b\b\b\r2/2 [==============================] - 0s 2ms/step - loss: 0.1404 - accuracy: 0.9200\n",
      "\r1/2 [==============>...............] - ETA: 0s - loss: 0.4415 - accuracy: 0.8125\b\b\b\b\b\b\b\b\b\b\b\b\b\b\b\b\b\b\b\b\b\b\b\b\b\b\b\b\b\b\b\b\b\b\b\b\b\b\b\b\b\b\b\b\b\b\b\b\b\b\b\b\b\b\b\b\b\b\b\b\b\b\b\b\b\b\b\b\b\b\b\b\b\b\b\b\b\b\b\b\r2/2 [==============================] - 0s 2ms/step - loss: 0.3709 - accuracy: 0.8400\n",
      "\r1/2 [==============>...............] - ETA: 0s - loss: 0.8471 - accuracy: 0.7188\b\b\b\b\b\b\b\b\b\b\b\b\b\b\b\b\b\b\b\b\b\b\b\b\b\b\b\b\b\b\b\b\b\b\b\b\b\b\b\b\b\b\b\b\b\b\b\b\b\b\b\b\b\b\b\b\b\b\b\b\b\b\b\b\b\b\b\b\b\b\b\b\b\b\b\b\b\b\b\b\r2/2 [==============================] - 0s 1ms/step - loss: 0.7328 - accuracy: 0.7600\n",
      "\r1/2 [==============>...............] - ETA: 0s - loss: 1.9244 - accuracy: 0.6562\b\b\b\b\b\b\b\b\b\b\b\b\b\b\b\b\b\b\b\b\b\b\b\b\b\b\b\b\b\b\b\b\b\b\b\b\b\b\b\b\b\b\b\b\b\b\b\b\b\b\b\b\b\b\b\b\b\b\b\b\b\b\b\b\b\b\b\b\b\b\b\b\b\b\b\b\b\b\b\b\r2/2 [==============================] - 0s 1ms/step - loss: 1.7225 - accuracy: 0.6800\n",
      "\r1/2 [==============>...............] - ETA: 0s - loss: 3.2811 - accuracy: 0.3750\b\b\b\b\b\b\b\b\b\b\b\b\b\b\b\b\b\b\b\b\b\b\b\b\b\b\b\b\b\b\b\b\b\b\b\b\b\b\b\b\b\b\b\b\b\b\b\b\b\b\b\b\b\b\b\b\b\b\b\b\b\b\b\b\b\b\b\b\b\b\b\b\b\b\b\b\b\b\b\b\r2/2 [==============================] - 0s 1ms/step - loss: 3.0901 - accuracy: 0.3600\n",
      "\r1/2 [==============>...............] - ETA: 0s - loss: 5.6114 - accuracy: 0.0000e+00\b\b\b\b\b\b\b\b\b\b\b\b\b\b\b\b\b\b\b\b\b\b\b\b\b\b\b\b\b\b\b\b\b\b\b\b\b\b\b\b\b\b\b\b\b\b\b\b\b\b\b\b\b\b\b\b\b\b\b\b\b\b\b\b\b\b\b\b\b\b\b\b\b\b\b\b\b\b\b\b\b\b\b\b\r2/2 [==============================] - 0s 1ms/step - loss: 5.5320 - accuracy: 0.0000e+00\n"
     ]
    }
   ],
   "source": [
    "result = dict()\n",
    "# e.g. result[0.1] means the eps of AE is 0.1\n",
    "for eps in epsilons:\n",
    "    result[eps] = model.evaluate(adversarial_example[eps],y_test[50:])"
   ]
  },
  {
   "cell_type": "code",
   "execution_count": 17,
   "metadata": {},
   "outputs": [
    {
     "data": {
      "text/plain": [
       "{0.01: [0.0109684057533741, 1.0],\n",
       " 0.05: [0.14041966199874878, 0.9200000166893005],\n",
       " 0.075: [0.37086713314056396, 0.8399999737739563],\n",
       " 0.1: [0.7327786087989807, 0.7599999904632568],\n",
       " 0.15: [1.7225086688995361, 0.6800000071525574],\n",
       " 0.2: [3.090104103088379, 0.36000001430511475],\n",
       " 0.25: [5.531953811645508, 0.0]}"
      ]
     },
     "execution_count": 17,
     "metadata": {},
     "output_type": "execute_result"
    }
   ],
   "source": [
    "result"
   ]
  },
  {
   "cell_type": "markdown",
   "metadata": {},
   "source": [
    "## details about all the sample"
   ]
  },
  {
   "cell_type": "code",
   "execution_count": 18,
   "metadata": {},
   "outputs": [
    {
     "name": "stdout",
     "output_type": "stream",
     "text": [
      "0 tf.Tensor([[0.01337456 0.98662543]], shape=(1, 2), dtype=float32)\n",
      "1 tf.Tensor([[5.0066843e-05 9.9994993e-01]], shape=(1, 2), dtype=float32)\n",
      "2 tf.Tensor([[2.8010548e-04 9.9971992e-01]], shape=(1, 2), dtype=float32)\n",
      "3 tf.Tensor([[7.7816025e-05 9.9992216e-01]], shape=(1, 2), dtype=float32)\n",
      "4 tf.Tensor([[4.0326337e-05 9.9995971e-01]], shape=(1, 2), dtype=float32)\n",
      "5 tf.Tensor([[7.4237396e-05 9.9992573e-01]], shape=(1, 2), dtype=float32)\n",
      "6 tf.Tensor([[8.5604953e-04 9.9914396e-01]], shape=(1, 2), dtype=float32)\n",
      "7 tf.Tensor([[2.353964e-05 9.999765e-01]], shape=(1, 2), dtype=float32)\n",
      "8 tf.Tensor([[2.173483e-04 9.997826e-01]], shape=(1, 2), dtype=float32)\n",
      "9 tf.Tensor([[7.814135e-05 9.999218e-01]], shape=(1, 2), dtype=float32)\n",
      "10 tf.Tensor([[0.96896744 0.03103255]], shape=(1, 2), dtype=float32)\n",
      "11 tf.Tensor([[6.213760e-05 9.999379e-01]], shape=(1, 2), dtype=float32)\n",
      "12 tf.Tensor([[0.10869297 0.891307  ]], shape=(1, 2), dtype=float32)\n",
      "13 tf.Tensor([[9.937081e-05 9.999006e-01]], shape=(1, 2), dtype=float32)\n",
      "14 tf.Tensor([[0.86038834 0.13961172]], shape=(1, 2), dtype=float32)\n",
      "15 tf.Tensor([[0.37261668 0.6273833 ]], shape=(1, 2), dtype=float32)\n",
      "16 tf.Tensor([[5.4745498e-04 9.9945253e-01]], shape=(1, 2), dtype=float32)\n",
      "17 tf.Tensor([[4.486035e-05 9.999552e-01]], shape=(1, 2), dtype=float32)\n",
      "18 tf.Tensor([[5.448048e-05 9.999455e-01]], shape=(1, 2), dtype=float32)\n",
      "19 tf.Tensor([[0.9698436  0.03015634]], shape=(1, 2), dtype=float32)\n",
      "20 tf.Tensor([[6.199159e-05 9.999380e-01]], shape=(1, 2), dtype=float32)\n",
      "21 tf.Tensor([[0.67085606 0.32914394]], shape=(1, 2), dtype=float32)\n",
      "22 tf.Tensor([[0.7405291  0.25947085]], shape=(1, 2), dtype=float32)\n",
      "23 tf.Tensor([[6.698676e-05 9.999330e-01]], shape=(1, 2), dtype=float32)\n",
      "24 tf.Tensor([[1.8058244e-04 9.9981946e-01]], shape=(1, 2), dtype=float32)\n",
      "25 tf.Tensor([[0.00610622 0.9938938 ]], shape=(1, 2), dtype=float32)\n",
      "26 tf.Tensor([[1.4155489e-04 9.9985838e-01]], shape=(1, 2), dtype=float32)\n",
      "27 tf.Tensor([[9.3290997e-05 9.9990666e-01]], shape=(1, 2), dtype=float32)\n",
      "28 tf.Tensor([[0.84662557 0.1533745 ]], shape=(1, 2), dtype=float32)\n",
      "29 tf.Tensor([[4.1671738e-05 9.9995828e-01]], shape=(1, 2), dtype=float32)\n",
      "30 tf.Tensor([[0.21680409 0.7831959 ]], shape=(1, 2), dtype=float32)\n",
      "31 tf.Tensor([[9.632261e-05 9.999037e-01]], shape=(1, 2), dtype=float32)\n",
      "32 tf.Tensor([[8.0942620e-05 9.9991906e-01]], shape=(1, 2), dtype=float32)\n",
      "33 tf.Tensor([[5.6033174e-04 9.9943966e-01]], shape=(1, 2), dtype=float32)\n",
      "34 tf.Tensor([[0.9646757  0.03532424]], shape=(1, 2), dtype=float32)\n",
      "35 tf.Tensor([[1.4031492e-04 9.9985969e-01]], shape=(1, 2), dtype=float32)\n",
      "36 tf.Tensor([[1.3773628e-04 9.9986219e-01]], shape=(1, 2), dtype=float32)\n",
      "37 tf.Tensor([[4.4742006e-05 9.9995530e-01]], shape=(1, 2), dtype=float32)\n",
      "38 tf.Tensor([[3.152340e-04 9.996848e-01]], shape=(1, 2), dtype=float32)\n",
      "39 tf.Tensor([[9.7580843e-05 9.9990237e-01]], shape=(1, 2), dtype=float32)\n",
      "40 tf.Tensor([[5.078497e-05 9.999492e-01]], shape=(1, 2), dtype=float32)\n",
      "41 tf.Tensor([[3.612260e-05 9.999639e-01]], shape=(1, 2), dtype=float32)\n",
      "42 tf.Tensor([[0.23212153 0.7678784 ]], shape=(1, 2), dtype=float32)\n",
      "43 tf.Tensor([[0.00241672 0.99758327]], shape=(1, 2), dtype=float32)\n",
      "44 tf.Tensor([[8.4372215e-05 9.9991560e-01]], shape=(1, 2), dtype=float32)\n",
      "45 tf.Tensor([[6.905984e-05 9.999310e-01]], shape=(1, 2), dtype=float32)\n",
      "46 tf.Tensor([[0.5119058 0.4880942]], shape=(1, 2), dtype=float32)\n",
      "47 tf.Tensor([[1.15883864e-04 9.99884129e-01]], shape=(1, 2), dtype=float32)\n",
      "48 tf.Tensor([[1.3307594e-04 9.9986696e-01]], shape=(1, 2), dtype=float32)\n",
      "49 tf.Tensor([[0.0841347 0.9158653]], shape=(1, 2), dtype=float32)\n"
     ]
    }
   ],
   "source": [
    "eps = 0.075\n",
    "for i in range(50):\n",
    "    tmp = np.empty([1,9,9,3],dtype=np.float32)\n",
    "    tmp[0] = adversarial_example[eps][i]\n",
    "    result_tmp = model(tmp)\n",
    "    print(i,result_tmp)"
   ]
  },
  {
   "cell_type": "markdown",
   "metadata": {},
   "source": [
    "## find the sample which is easy to present"
   ]
  },
  {
   "cell_type": "code",
   "execution_count": 69,
   "metadata": {},
   "outputs": [
    {
     "data": {
      "text/plain": [
       "<matplotlib.image.AxesImage at 0x7f64043110f0>"
      ]
     },
     "execution_count": 69,
     "metadata": {},
     "output_type": "execute_result"
    },
    {
     "data": {
      "image/png": "[encoded data removed]",
      "text/plain": [
       "<Figure size 300x300 with 1 Axes>"
      ]
     },
     "metadata": {},
     "output_type": "display_data"
    }
   ],
   "source": [
    "plt.imshow(x_test[50+14])"
   ]
  },
  {
   "cell_type": "code",
   "execution_count": 37,
   "metadata": {},
   "outputs": [
    {
     "name": "stderr",
     "output_type": "stream",
     "text": [
      "Clipping input data to the valid range for imshow with RGB data ([0..1] for floats or [0..255] for integers).\n"
     ]
    },
    {
     "data": {
      "text/plain": [
       "<matplotlib.image.AxesImage at 0x7f6418254790>"
      ]
     },
     "execution_count": 37,
     "metadata": {},
     "output_type": "execute_result"
    },
    {
     "data": {
      "image/png": "[encoded data removed]",
      "text/plain": [
       "<Figure size 300x300 with 1 Axes>"
      ]
     },
     "metadata": {},
     "output_type": "display_data"
    }
   ],
   "source": [
    "plt.imshow(adversarial_pattern[14])"
   ]
  },
  {
   "cell_type": "code",
   "execution_count": 54,
   "metadata": {},
   "outputs": [
    {
     "data": {
      "text/plain": [
       "<matplotlib.image.AxesImage at 0x7f64180cb6d0>"
      ]
     },
     "execution_count": 54,
     "metadata": {},
     "output_type": "execute_result"
    },
    {
     "data": {
      "image/png": "[encoded data removed]",
      "text/plain": [
       "<Figure size 300x300 with 1 Axes>"
      ]
     },
     "metadata": {},
     "output_type": "display_data"
    }
   ],
   "source": [
    "plt.imshow(adversarial_example[0.25][14])"
   ]
  },
  {
   "cell_type": "markdown",
   "metadata": {},
   "source": [
    "# try to remain the white area (another AE)"
   ]
  },
  {
   "cell_type": "code",
   "execution_count": 19,
   "metadata": {},
   "outputs": [],
   "source": [
    "def AE_gen_remain_white_area(input_img,eps,perturbations):\n",
    "    '''\n",
    "    param. img, eps, noise(perturbations)\n",
    "    return. a img with adv pattern\n",
    "    '''\n",
    "    tmp =  np.zeros([1,9,9,3], dtype=np.float32)\n",
    "    \n",
    "    for p in range(9):\n",
    "        for j in range(9):\n",
    "            for k in range(3):\n",
    "                # if the pixel not white -> add noise\n",
    "                # else -> keep it white\n",
    "                if input_img[p][j][k] != 1.0:\n",
    "                    tmp[0][p][j][k] = input_img[p][j][k] + eps * perturbations[p][j][k]\n",
    "                else:\n",
    "                    tmp[0][p][j][k] = 1\n",
    "    return tmp[0]"
   ]
  },
  {
   "cell_type": "code",
   "execution_count": 20,
   "metadata": {},
   "outputs": [],
   "source": [
    "# gen the adversarial pattern of each img\n",
    "adversarial_pattern = np.empty([50,9,9,3], dtype=np.float32)\n",
    "for i in range(0,50):\n",
    "        adversarial_pattern[i] = create_adversarial_pattern(x_test[i+50],y_test[i+50])\n",
    "\n",
    "adversarial_example = dict() # key: eps, val: AEs\n",
    "epsilons = [0.01, 0.05, 0.075, 0.1, 0.15, 0.2, 0.25]\n",
    "for eps in epsilons:\n",
    "    adversarial_example[eps] = np.empty([50,9,9,3], dtype=np.float32)\n",
    "    for i in range(0,50):\n",
    "        adv_x = AE_gen_remain_white_area(x_test[i+50], eps, adversarial_pattern[i])\n",
    "        adv_x = tf.clip_by_value(adv_x, 0, 1)\n",
    "        adversarial_example[eps][i] = adv_x"
   ]
  },
  {
   "cell_type": "code",
   "execution_count": 21,
   "metadata": {},
   "outputs": [],
   "source": [
    "# with open('remain_white_adversarial_example.pkl', 'wb') as f:\n",
    "#     pickle.dump(adversarial_example, f)"
   ]
  },
  {
   "cell_type": "code",
   "execution_count": 22,
   "metadata": {},
   "outputs": [
    {
     "name": "stdout",
     "output_type": "stream",
     "text": [
      "1/2 [==============>...............] - ETA: 0s - loss: 0.0090 - accuracy: 1.0000\b\b\b\b\b\b\b\b\b\b\b\b\b\b\b\b\b\b\b\b\b\b\b\b\b\b\b\b\b\b\b\b\b\b\b\b\b\b\b\b\b\b\b\b\b\b\b\b\b\b\b\b\b\b\b\b\b\b\b\b\b\b\b\b\b\b\b\b\b\b\b\b\b\b\b\b\b\b\b\b\r2/2 [==============================] - 0s 2ms/step - loss: 0.0068 - accuracy: 1.0000\n",
      "\r1/2 [==============>...............] - ETA: 0s - loss: 0.0255 - accuracy: 1.0000\b\b\b\b\b\b\b\b\b\b\b\b\b\b\b\b\b\b\b\b\b\b\b\b\b\b\b\b\b\b\b\b\b\b\b\b\b\b\b\b\b\b\b\b\b\b\b\b\b\b\b\b\b\b\b\b\b\b\b\b\b\b\b\b\b\b\b\b\b\b\b\b\b\b\b\b\b\b\b\b\r2/2 [==============================] - 0s 2ms/step - loss: 0.0227 - accuracy: 1.0000\n",
      "\r1/2 [==============>...............] - ETA: 0s - loss: 0.0507 - accuracy: 0.9688\b\b\b\b\b\b\b\b\b\b\b\b\b\b\b\b\b\b\b\b\b\b\b\b\b\b\b\b\b\b\b\b\b\b\b\b\b\b\b\b\b\b\b\b\b\b\b\b\b\b\b\b\b\b\b\b\b\b\b\b\b\b\b\b\b\b\b\b\b\b\b\b\b\b\b\b\b\b\b\b\r2/2 [==============================] - 0s 1ms/step - loss: 0.0488 - accuracy: 0.9600\n",
      "\r1/2 [==============>...............] - ETA: 0s - loss: 0.0919 - accuracy: 0.9375\b\b\b\b\b\b\b\b\b\b\b\b\b\b\b\b\b\b\b\b\b\b\b\b\b\b\b\b\b\b\b\b\b\b\b\b\b\b\b\b\b\b\b\b\b\b\b\b\b\b\b\b\b\b\b\b\b\b\b\b\b\b\b\b\b\b\b\b\b\b\b\b\b\b\b\b\b\b\b\b\r2/2 [==============================] - 0s 2ms/step - loss: 0.0931 - accuracy: 0.9400\n",
      "\r1/2 [==============>...............] - ETA: 0s - loss: 0.2281 - accuracy: 0.9375\b\b\b\b\b\b\b\b\b\b\b\b\b\b\b\b\b\b\b\b\b\b\b\b\b\b\b\b\b\b\b\b\b\b\b\b\b\b\b\b\b\b\b\b\b\b\b\b\b\b\b\b\b\b\b\b\b\b\b\b\b\b\b\b\b\b\b\b\b\b\b\b\b\b\b\b\b\b\b\b\r2/2 [==============================] - 0s 1ms/step - loss: 0.2420 - accuracy: 0.9200\n",
      "\r1/2 [==============>...............] - ETA: 0s - loss: 0.4931 - accuracy: 0.8125\b\b\b\b\b\b\b\b\b\b\b\b\b\b\b\b\b\b\b\b\b\b\b\b\b\b\b\b\b\b\b\b\b\b\b\b\b\b\b\b\b\b\b\b\b\b\b\b\b\b\b\b\b\b\b\b\b\b\b\b\b\b\b\b\b\b\b\b\b\b\b\b\b\b\b\b\b\b\b\b\r2/2 [==============================] - 0s 2ms/step - loss: 0.5080 - accuracy: 0.8200\n",
      "\r1/2 [==============>...............] - ETA: 0s - loss: 0.8816 - accuracy: 0.7188\b\b\b\b\b\b\b\b\b\b\b\b\b\b\b\b\b\b\b\b\b\b\b\b\b\b\b\b\b\b\b\b\b\b\b\b\b\b\b\b\b\b\b\b\b\b\b\b\b\b\b\b\b\b\b\b\b\b\b\b\b\b\b\b\b\b\b\b\b\b\b\b\b\b\b\b\b\b\b\b\r2/2 [==============================] - 0s 2ms/step - loss: 0.8816 - accuracy: 0.7600\n"
     ]
    }
   ],
   "source": [
    "result = dict()\n",
    "for eps in epsilons:\n",
    "    result[eps] = model.evaluate(adversarial_example[eps],y_test[50:])"
   ]
  },
  {
   "cell_type": "code",
   "execution_count": 23,
   "metadata": {},
   "outputs": [
    {
     "data": {
      "text/plain": [
       "{0.01: [0.006796030793339014, 1.0],\n",
       " 0.05: [0.02268688939511776, 1.0],\n",
       " 0.075: [0.04879584163427353, 0.9599999785423279],\n",
       " 0.1: [0.09313542395830154, 0.9399999976158142],\n",
       " 0.15: [0.2420046180486679, 0.9200000166893005],\n",
       " 0.2: [0.5080183148384094, 0.8199999928474426],\n",
       " 0.25: [0.8815600872039795, 0.7599999904632568]}"
      ]
     },
     "execution_count": 23,
     "metadata": {},
     "output_type": "execute_result"
    }
   ],
   "source": [
    "result"
   ]
  },
  {
   "cell_type": "code",
   "execution_count": 24,
   "metadata": {},
   "outputs": [
    {
     "name": "stdout",
     "output_type": "stream",
     "text": [
      "0 tf.Tensor([[0.00219374 0.99780625]], shape=(1, 2), dtype=float32)\n",
      "1 tf.Tensor([[1.5097094e-05 9.9998486e-01]], shape=(1, 2), dtype=float32)\n",
      "2 tf.Tensor([[5.7831654e-05 9.9994218e-01]], shape=(1, 2), dtype=float32)\n",
      "3 tf.Tensor([[2.102019e-05 9.999790e-01]], shape=(1, 2), dtype=float32)\n",
      "4 tf.Tensor([[1.1258588e-05 9.9998879e-01]], shape=(1, 2), dtype=float32)\n",
      "5 tf.Tensor([[1.9814877e-05 9.9998021e-01]], shape=(1, 2), dtype=float32)\n",
      "6 tf.Tensor([[1.2569550e-04 9.9987423e-01]], shape=(1, 2), dtype=float32)\n",
      "7 tf.Tensor([[4.4335084e-06 9.9999559e-01]], shape=(1, 2), dtype=float32)\n",
      "8 tf.Tensor([[4.2658696e-05 9.9995732e-01]], shape=(1, 2), dtype=float32)\n",
      "9 tf.Tensor([[2.1782775e-05 9.9997818e-01]], shape=(1, 2), dtype=float32)\n",
      "10 tf.Tensor([[0.3673621  0.63263786]], shape=(1, 2), dtype=float32)\n",
      "11 tf.Tensor([[1.6802709e-05 9.9998319e-01]], shape=(1, 2), dtype=float32)\n",
      "12 tf.Tensor([[0.00420449 0.9957955 ]], shape=(1, 2), dtype=float32)\n",
      "13 tf.Tensor([[2.3090955e-05 9.9997687e-01]], shape=(1, 2), dtype=float32)\n",
      "14 tf.Tensor([[0.10923084 0.8907691 ]], shape=(1, 2), dtype=float32)\n",
      "15 tf.Tensor([[0.02098926 0.9790107 ]], shape=(1, 2), dtype=float32)\n",
      "16 tf.Tensor([[8.5905653e-05 9.9991405e-01]], shape=(1, 2), dtype=float32)\n",
      "17 tf.Tensor([[1.4138652e-05 9.9998581e-01]], shape=(1, 2), dtype=float32)\n",
      "18 tf.Tensor([[1.7118620e-05 9.9998283e-01]], shape=(1, 2), dtype=float32)\n",
      "19 tf.Tensor([[0.5561663 0.4438337]], shape=(1, 2), dtype=float32)\n",
      "20 tf.Tensor([[1.8757508e-05 9.9998128e-01]], shape=(1, 2), dtype=float32)\n",
      "21 tf.Tensor([[0.03969113 0.96030885]], shape=(1, 2), dtype=float32)\n",
      "22 tf.Tensor([[0.05500313 0.9449969 ]], shape=(1, 2), dtype=float32)\n",
      "23 tf.Tensor([[2.1356333e-05 9.9997866e-01]], shape=(1, 2), dtype=float32)\n",
      "24 tf.Tensor([[4.0802766e-05 9.9995923e-01]], shape=(1, 2), dtype=float32)\n",
      "25 tf.Tensor([[6.0994783e-04 9.9939001e-01]], shape=(1, 2), dtype=float32)\n",
      "26 tf.Tensor([[3.3208238e-05 9.9996674e-01]], shape=(1, 2), dtype=float32)\n",
      "27 tf.Tensor([[2.8530047e-05 9.9997151e-01]], shape=(1, 2), dtype=float32)\n",
      "28 tf.Tensor([[0.09896636 0.90103364]], shape=(1, 2), dtype=float32)\n",
      "29 tf.Tensor([[1.2065889e-05 9.9998796e-01]], shape=(1, 2), dtype=float32)\n",
      "30 tf.Tensor([[0.00595483 0.99404514]], shape=(1, 2), dtype=float32)\n",
      "31 tf.Tensor([[2.5510204e-05 9.9997449e-01]], shape=(1, 2), dtype=float32)\n",
      "32 tf.Tensor([[2.1165097e-05 9.9997878e-01]], shape=(1, 2), dtype=float32)\n",
      "33 tf.Tensor([[8.8476045e-05 9.9991155e-01]], shape=(1, 2), dtype=float32)\n",
      "34 tf.Tensor([[0.5364009  0.46359912]], shape=(1, 2), dtype=float32)\n",
      "35 tf.Tensor([[3.475147e-05 9.999652e-01]], shape=(1, 2), dtype=float32)\n",
      "36 tf.Tensor([[3.2104897e-05 9.9996793e-01]], shape=(1, 2), dtype=float32)\n",
      "37 tf.Tensor([[1.4083734e-05 9.9998593e-01]], shape=(1, 2), dtype=float32)\n",
      "38 tf.Tensor([[4.2426229e-05 9.9995756e-01]], shape=(1, 2), dtype=float32)\n",
      "39 tf.Tensor([[3.2538141e-05 9.9996746e-01]], shape=(1, 2), dtype=float32)\n",
      "40 tf.Tensor([[1.4275126e-05 9.9998569e-01]], shape=(1, 2), dtype=float32)\n",
      "41 tf.Tensor([[1.1688632e-05 9.9998832e-01]], shape=(1, 2), dtype=float32)\n",
      "42 tf.Tensor([[0.00624606 0.99375397]], shape=(1, 2), dtype=float32)\n",
      "43 tf.Tensor([[2.2069829e-04 9.9977928e-01]], shape=(1, 2), dtype=float32)\n",
      "44 tf.Tensor([[2.4327232e-05 9.9997568e-01]], shape=(1, 2), dtype=float32)\n",
      "45 tf.Tensor([[2.1734075e-05 9.9997830e-01]], shape=(1, 2), dtype=float32)\n",
      "46 tf.Tensor([[0.03824347 0.9617565 ]], shape=(1, 2), dtype=float32)\n",
      "47 tf.Tensor([[3.1904801e-05 9.9996805e-01]], shape=(1, 2), dtype=float32)\n",
      "48 tf.Tensor([[2.979510e-05 9.999702e-01]], shape=(1, 2), dtype=float32)\n",
      "49 tf.Tensor([[0.00319188 0.9968081 ]], shape=(1, 2), dtype=float32)\n"
     ]
    }
   ],
   "source": [
    "for i in range(50):\n",
    "    tmp = np.empty([1,9,9,3],dtype=np.float32)\n",
    "    tmp[0] = adversarial_example[0.075][i]\n",
    "    result_tmp = model(tmp)\n",
    "    print(i,result_tmp)"
   ]
  },
  {
   "cell_type": "code",
   "execution_count": 25,
   "metadata": {},
   "outputs": [
    {
     "data": {
      "text/plain": [
       "<matplotlib.image.AxesImage at 0x7fb0904aca60>"
      ]
     },
     "execution_count": 25,
     "metadata": {},
     "output_type": "execute_result"
    },
    {
     "data": {
      "image/png": "[encoded data removed]",
      "text/plain": [
       "<Figure size 300x300 with 1 Axes>"
      ]
     },
     "metadata": {},
     "output_type": "display_data"
    }
   ],
   "source": [
    "plt.imshow(x_test[50+19])"
   ]
  },
  {
   "cell_type": "code",
   "execution_count": 29,
   "metadata": {},
   "outputs": [
    {
     "name": "stdout",
     "output_type": "stream",
     "text": [
      "0.01\n"
     ]
    },
    {
     "data": {
      "image/png": "[encoded data removed]",
      "text/plain": [
       "<Figure size 300x300 with 1 Axes>"
      ]
     },
     "metadata": {},
     "output_type": "display_data"
    },
    {
     "name": "stdout",
     "output_type": "stream",
     "text": [
      "0.05\n"
     ]
    },
    {
     "data": {
      "image/png": "[encoded data removed]",
      "text/plain": [
       "<Figure size 300x300 with 1 Axes>"
      ]
     },
     "metadata": {},
     "output_type": "display_data"
    },
    {
     "name": "stdout",
     "output_type": "stream",
     "text": [
      "0.075\n"
     ]
    },
    {
     "data": {
      "image/png": "[encoded data removed]",
      "text/plain": [
       "<Figure size 300x300 with 1 Axes>"
      ]
     },
     "metadata": {},
     "output_type": "display_data"
    },
    {
     "name": "stdout",
     "output_type": "stream",
     "text": [
      "0.1\n"
     ]
    },
    {
     "data": {
      "image/png": "[encoded data removed]",
      "text/plain": [
       "<Figure size 300x300 with 1 Axes>"
      ]
     },
     "metadata": {},
     "output_type": "display_data"
    },
    {
     "name": "stdout",
     "output_type": "stream",
     "text": [
      "0.15\n"
     ]
    },
    {
     "data": {
      "image/png": "[encoded data removed]",
      "text/plain": [
       "<Figure size 300x300 with 1 Axes>"
      ]
     },
     "metadata": {},
     "output_type": "display_data"
    },
    {
     "name": "stdout",
     "output_type": "stream",
     "text": [
      "0.2\n"
     ]
    },
    {
     "data": {
      "image/png": "[encoded data removed]",
      "text/plain": [
       "<Figure size 300x300 with 1 Axes>"
      ]
     },
     "metadata": {},
     "output_type": "display_data"
    },
    {
     "name": "stdout",
     "output_type": "stream",
     "text": [
      "0.25\n"
     ]
    },
    {
     "data": {
      "image/png": "[encoded data removed]",
      "text/plain": [
       "<Figure size 300x300 with 1 Axes>"
      ]
     },
     "metadata": {},
     "output_type": "display_data"
    }
   ],
   "source": [
    "for eps in epsilons:\n",
    "    print(eps)\n",
    "    plt.imshow(adversarial_example[eps][19])\n",
    "    plt.show()"
   ]
  },
  {
   "cell_type": "code",
   "execution_count": 27,
   "metadata": {},
   "outputs": [
    {
     "name": "stderr",
     "output_type": "stream",
     "text": [
      "Clipping input data to the valid range for imshow with RGB data ([0..1] for floats or [0..255] for integers).\n"
     ]
    },
    {
     "data": {
      "text/plain": [
       "<matplotlib.image.AxesImage at 0x7fb090560040>"
      ]
     },
     "execution_count": 27,
     "metadata": {},
     "output_type": "execute_result"
    },
    {
     "data": {
      "image/png": "[encoded data removed]",
      "text/plain": [
       "<Figure size 300x300 with 1 Axes>"
      ]
     },
     "metadata": {},
     "output_type": "display_data"
    }
   ],
   "source": [
    "plt.imshow(adversarial_pattern[19])"
   ]
  }
 ],
 "metadata": {
  "accelerator": "GPU",
  "colab": {
   "collapsed_sections": [],
   "name": "adversarial_fgsm.ipynb",
   "toc_visible": true
  },
  "kernelspec": {
   "display_name": "yenho",
   "language": "python",
   "name": "python3"
  },
  "language_info": {
   "codemirror_mode": {
    "name": "ipython",
    "version": 3
   },
   "file_extension": ".py",
   "mimetype": "text/x-python",
   "name": "python",
   "nbconvert_exporter": "python",
   "pygments_lexer": "ipython3",
   "version": "3.10.8"
  },
  "vscode": {
   "interpreter": {
    "hash": "1a04660ba35f143b12381d39bd59efae17d696f3bd8e2f5d3aa4628a6f72f105"
   }
  }
 },
 "nbformat": 4,
 "nbformat_minor": 0
}
